{
 "cells": [
  {
   "cell_type": "markdown",
   "id": "ab762d73",
   "metadata": {},
   "source": [
    "# OpenAI Assistants API\n",
    "\n",
    "The new Assistants API is a stateful evolution of Chat Completions API meant to simplify the creation of assistant-like experiences, and enable developer access to powerful tools like Code Interpreter and Retrieval.\n",
    "\n",
    "<img src='./assistants.png' alt='assistanse' />\n",
    "\n",
    "## Chat Completions API vs Assistants API\n",
    "\n",
    "The primitives of the Chat Completions API are Messages, on which you perform a Completion with a Model (gpt-3.5-turbo, gpt-4, etc). It is lightweight and powerful, but inherently stateless, which means you have to manage conversation state, tool definitions, retrieval documents, and code execution manually.\n",
    "\n",
    "The primitives of the Assistants API are\n",
    "\n",
    "1. Assistants, which encapsulate a base model, instructions, tools, and (context) documents,\n",
    "\n",
    "2. Threads, which represent the state of a conversation, and\n",
    "\n",
    "3. Runs, which power the execution of an Assistant on a Thread, including textual responses and multi-step tool use.\n",
    "\n",
    "## Assistants API - Code Interpreter\n",
    "\n",
    "https://cookbook.openai.com/examples/assistants_api_overview_python\n",
    "\n",
    "https://platform.openai.com/docs/assistants/overview\n",
    "\n",
    "Watch:\n",
    "\n",
    "https://www.youtube.com/watch?v=5rcjGjgJNQc"
   ]
  },
  {
   "cell_type": "code",
   "execution_count": 3,
   "id": "386b8981",
   "metadata": {},
   "outputs": [],
   "source": [
    "from openai import OpenAI\n",
    "import json\n",
    "from dotenv import load_dotenv, find_dotenv\n",
    "\n",
    "_: bool = load_dotenv(find_dotenv())     # read local .env file"
   ]
  },
  {
   "cell_type": "code",
   "execution_count": 4,
   "id": "43eb98b9",
   "metadata": {},
   "outputs": [],
   "source": [
    "client: OpenAI = OpenAI"
   ]
  },
  {
   "cell_type": "markdown",
   "id": "4da3f4e8",
   "metadata": {},
   "source": [
    "## Code Interpreter\n",
    "\n",
    "Code Interpreter allows the Assistants API to write and run Python code in a sandboxed execution environment. This tool can process files with diverse data and formatting, and generate files with data and images of graphs. Code Interpreter allows your Assistant to run code iteratively to solve challenging code and math problems. When your Assistant writes code that fails to run, it can iterate on this code by attempting to run different code until the code execution succeeds.\n",
    "\n",
    "https://platform.openai.com/docs/assistants/tools/code-interpreter\n",
    "\n",
    "### Step 1: Create an Assistant"
   ]
  },
  {
   "cell_type": "code",
   "execution_count": 7,
   "id": "85431d75",
   "metadata": {},
   "outputs": [
    {
     "ename": "AttributeError",
     "evalue": "'cached_property' object has no attribute 'assistants'",
     "output_type": "error",
     "traceback": [
      "\u001b[31m---------------------------------------------------------------------------\u001b[39m",
      "\u001b[31mAttributeError\u001b[39m                            Traceback (most recent call last)",
      "\u001b[36mCell\u001b[39m\u001b[36m \u001b[39m\u001b[32mIn[7]\u001b[39m\u001b[32m, line 3\u001b[39m\n\u001b[32m      1\u001b[39m \u001b[38;5;28;01mfrom\u001b[39;00m\u001b[38;5;250m \u001b[39m\u001b[34;01mopenai\u001b[39;00m\u001b[34;01m.\u001b[39;00m\u001b[34;01mtypes\u001b[39;00m\u001b[34;01m.\u001b[39;00m\u001b[34;01mbeta\u001b[39;00m\u001b[38;5;250m \u001b[39m\u001b[38;5;28;01mimport\u001b[39;00m Assistant\n\u001b[32m----> \u001b[39m\u001b[32m3\u001b[39m assistant: Assistant = \u001b[43mclient\u001b[49m\u001b[43m.\u001b[49m\u001b[43mbeta\u001b[49m\u001b[43m.\u001b[49m\u001b[43massistants\u001b[49m.create(\n\u001b[32m      4\u001b[39m     name=\u001b[33m'\u001b[39m\u001b[33mMath Tutor\u001b[39m\u001b[33m'\u001b[39m,\n\u001b[32m      5\u001b[39m     instructions=\u001b[33m'\u001b[39m\u001b[33mYou are a personal math tutor. Write and run code to answer math questions.\u001b[39m\u001b[33m'\u001b[39m,\n\u001b[32m      6\u001b[39m     tools=[ {\u001b[33m'\u001b[39m\u001b[33mtype\u001b[39m\u001b[33m'\u001b[39m: \u001b[33m'\u001b[39m\u001b[33mcode_interpreter\u001b[39m\u001b[33m'\u001b[39m} ],\n\u001b[32m      7\u001b[39m     model=\u001b[33m'\u001b[39m\u001b[33mgpt-3.5-turbo-1106\u001b[39m\u001b[33m'\u001b[39m\n\u001b[32m      8\u001b[39m )\n",
      "\u001b[31mAttributeError\u001b[39m: 'cached_property' object has no attribute 'assistants'"
     ]
    }
   ],
   "source": [
    "from openai.types.beta import Assistant\n",
    "\n",
    "assistant: Assistant = client.beta.assistants.create(\n",
    "    name='Math Tutor',\n",
    "    instructions='You are a personal math tutor. Write and run code to answer math questions.',\n",
    "    tools=[ {'type': 'code_interpreter'} ],\n",
    "    model='gpt-3.5-turbo-1106'\n",
    ")"
   ]
  },
  {
   "cell_type": "markdown",
   "id": "05d527b3",
   "metadata": {},
   "source": [
    "### Step 2: Create a Thread"
   ]
  },
  {
   "cell_type": "code",
   "execution_count": 9,
   "id": "e9c17ab0",
   "metadata": {},
   "outputs": [
    {
     "ename": "AttributeError",
     "evalue": "'cached_property' object has no attribute 'threads'",
     "output_type": "error",
     "traceback": [
      "\u001b[31m---------------------------------------------------------------------------\u001b[39m",
      "\u001b[31mAttributeError\u001b[39m                            Traceback (most recent call last)",
      "\u001b[36mCell\u001b[39m\u001b[36m \u001b[39m\u001b[32mIn[9]\u001b[39m\u001b[32m, line 3\u001b[39m\n\u001b[32m      1\u001b[39m \u001b[38;5;28;01mfrom\u001b[39;00m\u001b[38;5;250m \u001b[39m\u001b[34;01mopenai\u001b[39;00m\u001b[34;01m.\u001b[39;00m\u001b[34;01mtypes\u001b[39;00m\u001b[34;01m.\u001b[39;00m\u001b[34;01mbeta\u001b[39;00m\u001b[34;01m.\u001b[39;00m\u001b[34;01mthread\u001b[39;00m\u001b[38;5;250m \u001b[39m\u001b[38;5;28;01mimport\u001b[39;00m Thread\n\u001b[32m----> \u001b[39m\u001b[32m3\u001b[39m thread: Thread = \u001b[43mclient\u001b[49m\u001b[43m.\u001b[49m\u001b[43mbeta\u001b[49m\u001b[43m.\u001b[49m\u001b[43mthreads\u001b[49m.create()\n",
      "\u001b[31mAttributeError\u001b[39m: 'cached_property' object has no attribute 'threads'"
     ]
    }
   ],
   "source": [
    "from openai.types.beta.thread import Thread\n",
    "\n",
    "thread: Thread = client.beta.threads.create()"
   ]
  },
  {
   "cell_type": "markdown",
   "id": "8328d6d2",
   "metadata": {},
   "source": [
    "### Step 3: Add a Message to a Thread"
   ]
  },
  {
   "cell_type": "code",
   "execution_count": 10,
   "id": "e99d381b",
   "metadata": {},
   "outputs": [
    {
     "ename": "ImportError",
     "evalue": "cannot import name 'ThreadMessage' from 'openai.types.beta.threads.message' (c:\\Users\\Netever\\anaconda3\\envs\\python12\\Lib\\site-packages\\openai\\types\\beta\\threads\\message.py)",
     "output_type": "error",
     "traceback": [
      "\u001b[31m---------------------------------------------------------------------------\u001b[39m",
      "\u001b[31mImportError\u001b[39m                               Traceback (most recent call last)",
      "\u001b[36mCell\u001b[39m\u001b[36m \u001b[39m\u001b[32mIn[10]\u001b[39m\u001b[32m, line 1\u001b[39m\n\u001b[32m----> \u001b[39m\u001b[32m1\u001b[39m \u001b[38;5;28;01mfrom\u001b[39;00m\u001b[38;5;250m \u001b[39m\u001b[34;01mopenai\u001b[39;00m\u001b[34;01m.\u001b[39;00m\u001b[34;01mtypes\u001b[39;00m\u001b[34;01m.\u001b[39;00m\u001b[34;01mbeta\u001b[39;00m\u001b[34;01m.\u001b[39;00m\u001b[34;01mthreads\u001b[39;00m\u001b[34;01m.\u001b[39;00m\u001b[34;01mmessage\u001b[39;00m\u001b[38;5;250m \u001b[39m\u001b[38;5;28;01mimport\u001b[39;00m ThreadMessage\n\u001b[32m      3\u001b[39m message: ThreadMessage = client.beta.threads.messages.create(\n\u001b[32m      4\u001b[39m     thread_id=thread_id,\n\u001b[32m      5\u001b[39m     role=\u001b[33m'\u001b[39m\u001b[33muser\u001b[39m\u001b[33m'\u001b[39m,\n\u001b[32m      6\u001b[39m     content=\u001b[33m\"\u001b[39m\u001b[33mI need to solve the equation \u001b[39m\u001b[33m'\u001b[39m\u001b[33m3x + 11 = 14\u001b[39m\u001b[33m'\u001b[39m\u001b[33m. Can you help me.\u001b[39m\u001b[33m\"\u001b[39m\n\u001b[32m      7\u001b[39m )\n",
      "\u001b[31mImportError\u001b[39m: cannot import name 'ThreadMessage' from 'openai.types.beta.threads.message' (c:\\Users\\Netever\\anaconda3\\envs\\python12\\Lib\\site-packages\\openai\\types\\beta\\threads\\message.py)"
     ]
    }
   ],
   "source": [
    "from openai.types.beta.threads.message import ThreadMessage\n",
    "\n",
    "message: ThreadMessage = client.beta.threads.messages.create(\n",
    "    thread_id=thread_id,\n",
    "    role='user',\n",
    "    content=\"I need to solve the equation '3x + 11 = 14'. Can you help me.\"\n",
    ")"
   ]
  },
  {
   "cell_type": "markdown",
   "id": "b535997a",
   "metadata": {},
   "source": [
    "## Step 4: Run the Assistant"
   ]
  },
  {
   "cell_type": "code",
   "execution_count": 11,
   "id": "c6483bd5",
   "metadata": {},
   "outputs": [
    {
     "ename": "AttributeError",
     "evalue": "'cached_property' object has no attribute 'threads'",
     "output_type": "error",
     "traceback": [
      "\u001b[31m---------------------------------------------------------------------------\u001b[39m",
      "\u001b[31mAttributeError\u001b[39m                            Traceback (most recent call last)",
      "\u001b[36mCell\u001b[39m\u001b[36m \u001b[39m\u001b[32mIn[11]\u001b[39m\u001b[32m, line 3\u001b[39m\n\u001b[32m      1\u001b[39m \u001b[38;5;28;01mfrom\u001b[39;00m\u001b[38;5;250m \u001b[39m\u001b[34;01mopenai\u001b[39;00m\u001b[34;01m.\u001b[39;00m\u001b[34;01mtypes\u001b[39;00m\u001b[34;01m.\u001b[39;00m\u001b[34;01mbeta\u001b[39;00m\u001b[34;01m.\u001b[39;00m\u001b[34;01mthreads\u001b[39;00m\u001b[34;01m.\u001b[39;00m\u001b[34;01mrun\u001b[39;00m\u001b[38;5;250m \u001b[39m\u001b[38;5;28;01mimport\u001b[39;00m Run\n\u001b[32m----> \u001b[39m\u001b[32m3\u001b[39m run: Run = \u001b[43mclient\u001b[49m\u001b[43m.\u001b[49m\u001b[43mbeta\u001b[49m\u001b[43m.\u001b[49m\u001b[43mthreads\u001b[49m.runs.create(\n\u001b[32m      4\u001b[39m     thread_id=thread_id,\n\u001b[32m      5\u001b[39m     assistant_id=assistant_id,\n\u001b[32m      6\u001b[39m     instructions=\u001b[33m'\u001b[39m\u001b[33mPlease address the user as John Doe. The user has a primium account.\u001b[39m\u001b[33m'\u001b[39m\n\u001b[32m      7\u001b[39m )\n",
      "\u001b[31mAttributeError\u001b[39m: 'cached_property' object has no attribute 'threads'"
     ]
    }
   ],
   "source": [
    "from openai.types.beta.threads.run import Run\n",
    "\n",
    "run: Run = client.beta.threads.runs.create(\n",
    "    thread_id=thread_id,\n",
    "    assistant_id=assistant_id,\n",
    "    instructions='Please address the user as John Doe. The user has a primium account.'\n",
    ")"
   ]
  },
  {
   "cell_type": "markdown",
   "id": "31cc57ae",
   "metadata": {},
   "source": [
    "## Step 5: Check the Run status"
   ]
  },
  {
   "cell_type": "code",
   "execution_count": 12,
   "id": "fba988b7",
   "metadata": {},
   "outputs": [
    {
     "ename": "AttributeError",
     "evalue": "'cached_property' object has no attribute 'threads'",
     "output_type": "error",
     "traceback": [
      "\u001b[31m---------------------------------------------------------------------------\u001b[39m",
      "\u001b[31mAttributeError\u001b[39m                            Traceback (most recent call last)",
      "\u001b[36mCell\u001b[39m\u001b[36m \u001b[39m\u001b[32mIn[12]\u001b[39m\u001b[32m, line 1\u001b[39m\n\u001b[32m----> \u001b[39m\u001b[32m1\u001b[39m run: Run = \u001b[43mclient\u001b[49m\u001b[43m.\u001b[49m\u001b[43mbeta\u001b[49m\u001b[43m.\u001b[49m\u001b[43mthreads\u001b[49m.runs.retrieve(\n\u001b[32m      2\u001b[39m     thread_id=thread_id,\n\u001b[32m      3\u001b[39m     run_id=run_id\n\u001b[32m      4\u001b[39m )\n\u001b[32m      6\u001b[39m \u001b[38;5;28mprint\u001b[39m(run)\n",
      "\u001b[31mAttributeError\u001b[39m: 'cached_property' object has no attribute 'threads'"
     ]
    }
   ],
   "source": [
    "run: Run = client.beta.threads.runs.retrieve(\n",
    "    thread_id=thread_id,\n",
    "    run_id=run_id\n",
    ")\n",
    "\n",
    "print(run)"
   ]
  },
  {
   "cell_type": "markdown",
   "id": "5a1a65ef",
   "metadata": {},
   "source": [
    "## Step 6: Display the Assistant's Response"
   ]
  },
  {
   "cell_type": "code",
   "execution_count": 13,
   "id": "a2e2df2c",
   "metadata": {},
   "outputs": [
    {
     "ename": "AttributeError",
     "evalue": "'cached_property' object has no attribute 'threads'",
     "output_type": "error",
     "traceback": [
      "\u001b[31m---------------------------------------------------------------------------\u001b[39m",
      "\u001b[31mAttributeError\u001b[39m                            Traceback (most recent call last)",
      "\u001b[36mCell\u001b[39m\u001b[36m \u001b[39m\u001b[32mIn[13]\u001b[39m\u001b[32m, line 1\u001b[39m\n\u001b[32m----> \u001b[39m\u001b[32m1\u001b[39m messages: \u001b[38;5;28mlist\u001b[39m[ThreadMessage] = \u001b[43mclient\u001b[49m\u001b[43m.\u001b[49m\u001b[43mbeta\u001b[49m\u001b[43m.\u001b[49m\u001b[43mthreads\u001b[49m.messages.list(\n\u001b[32m      2\u001b[39m     thread_id=thread_id\n\u001b[32m      3\u001b[39m )\n\u001b[32m      5\u001b[39m \u001b[38;5;28;01mfor\u001b[39;00m m \u001b[38;5;129;01min\u001b[39;00m \u001b[38;5;28mreversed\u001b[39m(messages.data):\n\u001b[32m      6\u001b[39m     \u001b[38;5;28mprint\u001b[39m(m.role + \u001b[33m'\u001b[39m\u001b[33m: \u001b[39m\u001b[33m'\u001b[39m + m.content[\u001b[32m0\u001b[39m].text.value)\n",
      "\u001b[31mAttributeError\u001b[39m: 'cached_property' object has no attribute 'threads'"
     ]
    }
   ],
   "source": [
    "messages: list[ThreadMessage] = client.beta.threads.messages.list(\n",
    "    thread_id=thread_id\n",
    ")\n",
    "\n",
    "for m in reversed(messages.data):\n",
    "    print(m.role + ': ' + m.content[0].text.value)"
   ]
  }
 ],
 "metadata": {
  "kernelspec": {
   "display_name": "python12",
   "language": "python",
   "name": "python3"
  },
  "language_info": {
   "codemirror_mode": {
    "name": "ipython",
    "version": 3
   },
   "file_extension": ".py",
   "mimetype": "text/x-python",
   "name": "python",
   "nbconvert_exporter": "python",
   "pygments_lexer": "ipython3",
   "version": "3.12.0"
  }
 },
 "nbformat": 4,
 "nbformat_minor": 5
}
